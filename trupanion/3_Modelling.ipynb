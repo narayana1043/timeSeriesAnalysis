{
 "cells": [
  {
   "cell_type": "code",
   "execution_count": 87,
   "metadata": {},
   "outputs": [],
   "source": [
    "from IPython.display import display, HTML\n",
    "import pandas as pd\n",
    "import numpy as np\n",
    "import math\n",
    "from sklearn.metrics import confusion_matrix \n",
    "from scipy import stats\n",
    "from sklearn.preprocessing import StandardScaler\n",
    "scaler = StandardScaler()\n",
    "\n",
    "import statsmodels.api as sm\n",
    "import matplotlib.pyplot as plt\n",
    "\n",
    "import warnings\n",
    "warnings.filterwarnings('ignore')"
   ]
  },
  {
   "cell_type": "code",
   "execution_count": 88,
   "metadata": {},
   "outputs": [
    {
     "data": {
      "text/html": [
       "<div>\n",
       "<style>\n",
       "    .dataframe thead tr:only-child th {\n",
       "        text-align: right;\n",
       "    }\n",
       "\n",
       "    .dataframe thead th {\n",
       "        text-align: left;\n",
       "    }\n",
       "\n",
       "    .dataframe tbody tr th {\n",
       "        vertical-align: top;\n",
       "    }\n",
       "</style>\n",
       "<table border=\"1\" class=\"dataframe\">\n",
       "  <thead>\n",
       "    <tr style=\"text-align: right;\">\n",
       "      <th></th>\n",
       "      <th>PolicyId</th>\n",
       "      <th>EnrollDate</th>\n",
       "      <th>CancelDate</th>\n",
       "      <th>MonthlyPremium</th>\n",
       "      <th>ClaimedAmount</th>\n",
       "      <th>PaidAmount</th>\n",
       "      <th>CustomerPaidAmount</th>\n",
       "      <th>LastSeenDate</th>\n",
       "      <th>LOS</th>\n",
       "      <th>InsuranceStatus</th>\n",
       "    </tr>\n",
       "  </thead>\n",
       "  <tbody>\n",
       "    <tr>\n",
       "      <th>0</th>\n",
       "      <td>92597</td>\n",
       "      <td>2010-12-07</td>\n",
       "      <td>1970-01-01</td>\n",
       "      <td>34.54</td>\n",
       "      <td>0.00</td>\n",
       "      <td>0.00</td>\n",
       "      <td>0.00</td>\n",
       "      <td>2016-12-31</td>\n",
       "      <td>72.81</td>\n",
       "      <td>1</td>\n",
       "    </tr>\n",
       "    <tr>\n",
       "      <th>1</th>\n",
       "      <td>92808</td>\n",
       "      <td>2010-11-09</td>\n",
       "      <td>1970-01-01</td>\n",
       "      <td>18.54</td>\n",
       "      <td>0.00</td>\n",
       "      <td>0.00</td>\n",
       "      <td>0.00</td>\n",
       "      <td>2016-12-31</td>\n",
       "      <td>73.73</td>\n",
       "      <td>1</td>\n",
       "    </tr>\n",
       "    <tr>\n",
       "      <th>2</th>\n",
       "      <td>93090</td>\n",
       "      <td>2010-11-11</td>\n",
       "      <td>1970-01-01</td>\n",
       "      <td>23.53</td>\n",
       "      <td>762.49</td>\n",
       "      <td>329.46</td>\n",
       "      <td>433.03</td>\n",
       "      <td>2016-12-31</td>\n",
       "      <td>73.66</td>\n",
       "      <td>1</td>\n",
       "    </tr>\n",
       "    <tr>\n",
       "      <th>3</th>\n",
       "      <td>93122</td>\n",
       "      <td>2010-11-11</td>\n",
       "      <td>1970-01-01</td>\n",
       "      <td>44.02</td>\n",
       "      <td>0.00</td>\n",
       "      <td>0.00</td>\n",
       "      <td>0.00</td>\n",
       "      <td>2016-12-31</td>\n",
       "      <td>73.66</td>\n",
       "      <td>1</td>\n",
       "    </tr>\n",
       "    <tr>\n",
       "      <th>4</th>\n",
       "      <td>93133</td>\n",
       "      <td>2010-11-11</td>\n",
       "      <td>1970-01-01</td>\n",
       "      <td>32.46</td>\n",
       "      <td>0.00</td>\n",
       "      <td>0.00</td>\n",
       "      <td>0.00</td>\n",
       "      <td>2016-12-31</td>\n",
       "      <td>73.66</td>\n",
       "      <td>1</td>\n",
       "    </tr>\n",
       "    <tr>\n",
       "      <th>5</th>\n",
       "      <td>93258</td>\n",
       "      <td>2010-11-11</td>\n",
       "      <td>2016-05-24</td>\n",
       "      <td>21.66</td>\n",
       "      <td>33.99</td>\n",
       "      <td>30.60</td>\n",
       "      <td>3.39</td>\n",
       "      <td>2016-05-24</td>\n",
       "      <td>66.40</td>\n",
       "      <td>0</td>\n",
       "    </tr>\n",
       "  </tbody>\n",
       "</table>\n",
       "</div>"
      ],
      "text/plain": [
       "   PolicyId EnrollDate CancelDate  MonthlyPremium  ClaimedAmount  PaidAmount  \\\n",
       "0     92597 2010-12-07 1970-01-01           34.54           0.00        0.00   \n",
       "1     92808 2010-11-09 1970-01-01           18.54           0.00        0.00   \n",
       "2     93090 2010-11-11 1970-01-01           23.53         762.49      329.46   \n",
       "3     93122 2010-11-11 1970-01-01           44.02           0.00        0.00   \n",
       "4     93133 2010-11-11 1970-01-01           32.46           0.00        0.00   \n",
       "5     93258 2010-11-11 2016-05-24           21.66          33.99       30.60   \n",
       "\n",
       "   CustomerPaidAmount LastSeenDate    LOS  InsuranceStatus  \n",
       "0                0.00   2016-12-31  72.81                1  \n",
       "1                0.00   2016-12-31  73.73                1  \n",
       "2              433.03   2016-12-31  73.66                1  \n",
       "3                0.00   2016-12-31  73.66                1  \n",
       "4                0.00   2016-12-31  73.66                1  \n",
       "5                3.39   2016-05-24  66.40                0  "
      ]
     },
     "metadata": {},
     "output_type": "display_data"
    }
   ],
   "source": [
    "# read data\n",
    "claim_df =  pd.read_csv(\"./data/ClaimLevel.csv\")\n",
    "policy_df = pd.read_csv(\"./data/PolicyLevel.csv\")\n",
    "\n",
    "\"\"\"\n",
    "                        # Data Preparation & Feature generation#\n",
    "Generate a single record per policy that retains max information possible\n",
    "\"\"\"\n",
    "claim_df['CustomerPaidAmount'] = claim_df['ClaimedAmount'] - claim_df['PaidAmount']\n",
    "claim_df_grouped = claim_df.groupby(['PolicyId'])\n",
    "claim_per_policy_df = claim_df_grouped[['ClaimedAmount', 'PaidAmount', 'CustomerPaidAmount']].sum()\n",
    "# claim_per_policy_df['ClaimsCount'] = claim_df_grouped.size()\n",
    "# claim_per_policy_df['AvgClaimAmount'] = claim_df_grouped[['ClaimedAmount']].mean()\n",
    "# claim_per_policy_df['AvgPaidAmount'] = claim_df_grouped[['PaidAmount']].mean()\n",
    "# claim_per_policy_df['AvgCustomerPaidAmount'] = claim_df_grouped[['CustomerPaidAmount']].mean()\n",
    "# claim_per_policy_df['stdClaimAmount'] = claim_df_grouped[['ClaimedAmount']].std()\n",
    "# claim_per_policy_df['stdPaidAmount'] = claim_df_grouped[['PaidAmount']].std()\n",
    "# claim_per_policy_df['stdCustomerPaidAmount'] = claim_df_grouped[['CustomerPaidAmount']].std()\n",
    "# claim_per_policy_df['VarianceClaimAmount'] = claim_df_grouped[['ClaimedAmount']].var()\n",
    "# claim_per_policy_df['VariancePaidAmount'] = claim_df_grouped[['PaidAmount']].var()\n",
    "# claim_per_policy_df['VarianceCustomerPaidAmount'] = claim_df_grouped[['CustomerPaidAmount']].var()\n",
    "# claim_per_policy_df['maxClaimAmount'] = claim_df_grouped[['ClaimedAmount']].max()\n",
    "# claim_per_policy_df['minClaimAmount'] = claim_df_grouped[['ClaimedAmount']].min()\n",
    "# claim_per_policy_df['medianClaimAmount'] = claim_df_grouped[['ClaimedAmount']].median()\n",
    "# claim_per_policy_df['maxCustomerPaidAmount'] = claim_df_grouped[['ClaimedAmount']].max()\n",
    "# claim_per_policy_df['minCustomerPaidAmount'] = claim_df_grouped[['ClaimedAmount']].min()\n",
    "# claim_per_policy_df['medianCustomerPaidAmount'] = claim_df_grouped[['ClaimedAmount']].median()\n",
    "\n",
    "policy_df = policy_df.join(claim_per_policy_df, on=['PolicyId'])\n",
    "\n",
    "\n",
    "# Last seen Date: CancelDate if not null else '2016-12-31' (Last date in the data set)\n",
    "policy_df['LastSeenDate'] = policy_df['CancelDate']\n",
    "policy_df['LastSeenDate'].fillna(pd.to_datetime('2016-12-31'), inplace=True)\n",
    "\n",
    "# Date conversions\n",
    "policy_df['EnrollDate'] = pd.to_datetime(policy_df['EnrollDate'])\n",
    "policy_df['CancelDate'] = pd.to_datetime(policy_df['CancelDate'])\n",
    "policy_df['LastSeenDate'] = pd.to_datetime(policy_df['LastSeenDate'])\n",
    "\n",
    "# Length of Stay \"LOS\"\n",
    "policy_df['LOS'] = ((policy_df['LastSeenDate'] - policy_df['EnrollDate'])/np.timedelta64(1, 'M'))\n",
    "policy_df = policy_df.round(decimals=2)\n",
    "\n",
    "# Insurance Status: Active means 1 else 0\n",
    "policy_df['InsuranceStatus'] = policy_df['CancelDate'].apply(lambda x: 0 if pd.notnull(x) else 1)\n",
    "\n",
    "# drop null values\n",
    "policy_df.dropna(axis='index', subset=['MonthlyPremium'], inplace=True)\n",
    "\n",
    "# If no claims were made then all amounts are equal to 0 instead of NULL\n",
    "for column in policy_df.columns:\n",
    "    policy_df[column].fillna(0, inplace=True)\n",
    "\n",
    "# display(claim_df.head())\n",
    "display(policy_df.head(6))"
   ]
  },
  {
   "cell_type": "code",
   "execution_count": 89,
   "metadata": {},
   "outputs": [
    {
     "name": "stdout",
     "output_type": "stream",
     "text": [
      "Total polices 99995\n",
      "NC:C =  0.8678433921696085 : 0.13215660783039151\n"
     ]
    }
   ],
   "source": [
    "\"\"\"\n",
    "                   # Data Description #\n",
    "Churn --> 'C' \n",
    "Non-Churn --> 'NC'\n",
    "\"\"\"\n",
    "total_policies = policy_df.shape[0]\n",
    "curr_NC = policy_df[policy_df['InsuranceStatus']==1].shape[0]/float(total_policies)\n",
    "curr_C = policy_df[policy_df['InsuranceStatus']==0].shape[0]/float(total_policies)\n",
    "print(\"Total polices\", total_policies)\n",
    "print(\"NC:C = \",curr_NC, \":\", curr_C)"
   ]
  },
  {
   "cell_type": "code",
   "execution_count": 90,
   "metadata": {},
   "outputs": [
    {
     "data": {
      "text/plain": [
       "113210"
      ]
     },
     "execution_count": 90,
     "metadata": {},
     "output_type": "execute_result"
    }
   ],
   "source": [
    "churn_data = policy_df[policy_df['InsuranceStatus']==0]\n",
    "non_churn_data = policy_df[policy_df['InsuranceStatus']==1]\n",
    "train_data = pd.concat([churn_data, non_churn_data.sample(n=len(churn_data))], axis=1)\n",
    "test_data = policy_df.loc[np.setdiff1d(policy_df.index.values, churn_data.index.values),:]\n",
    "len(train_data)+len(test_data)\n",
    "# len(policy_df)"
   ]
  },
  {
   "cell_type": "code",
   "execution_count": 91,
   "metadata": {},
   "outputs": [],
   "source": [
    "select_columns = list(\n",
    "    set(policy_df.columns) - set(['PolicyId', 'EnrollDate', 'CancelDate', 'InsuranceStatus', 'LastSeenDate',\n",
    "#                                   'LOS', 'ClaimedAmount', 'PaidAmount', 'CustomerPaidAmount' , \n",
    "#                                  'AvgClaimAmount', 'AvgPaidAmount', 'stdClaimAmount', 'stdPaidAmount'\n",
    "#                                   'minClaimAmount', 'maxClaimAmount', 'medianClaimAmount'\n",
    "                                 ]))\n",
    "\n",
    "train_data = sample_train_data(churn_percent=0.5)\n",
    "X_train = train_data[select_columns]\n",
    "y_train = train_data[['InsuranceStatus']]\n",
    "\n",
    "# Prediction for data in Jan will for only people who are still enrolled and their length of stay is +1 month\n",
    "X_test = test_data[select_columns]\n",
    "# X_test['LOS'] += 1\n",
    "y_test = test_data[['InsuranceStatus']]"
   ]
  },
  {
   "cell_type": "code",
   "execution_count": 92,
   "metadata": {},
   "outputs": [
    {
     "name": "stdout",
     "output_type": "stream",
     "text": [
      "Test accuracy 0.444503341784\n",
      "tn, fp, fn, tp  [    0     0 48206 38574]\n"
     ]
    }
   ],
   "source": [
    "\"\"\"\n",
    "                                        # RF Model #\n",
    "\"\"\"\n",
    "from sklearn.ensemble import RandomForestClassifier as RF\n",
    "\n",
    "X_train, X_test = scaler.fit_transform(X_train), scaler.fit_transform(X_test)\n",
    "model = RF(n_estimators=10, class_weight={0:1,1:1})\n",
    "model.fit(X_train, y_train)\n",
    "y_predicted = model.predict(X_test)\n",
    "print(\"Test accuracy\",model.score(X_test, y_test))\n",
    "print(\"tn, fp, fn, tp \",confusion_matrix(y_test, y_predicted).ravel())"
   ]
  },
  {
   "cell_type": "code",
   "execution_count": 93,
   "metadata": {
    "scrolled": false
   },
   "outputs": [
    {
     "name": "stdout",
     "output_type": "stream",
     "text": [
      "Test Accuracy 0.401670891911\n",
      "tn, fp, fn, tp  [    0     0 51923 34857]\n"
     ]
    }
   ],
   "source": [
    "\"\"\"\n",
    "                                        # Logistic Model #\n",
    "\"\"\"\n",
    "from sklearn.linear_model import LogisticRegression\n",
    "\n",
    "# point_weights = dataset[0].InsuranceStatus.apply(lambda x: weight if x == 0 else 1)\n",
    "model = LogisticRegression(penalty='l1',)\n",
    "model.fit(X_train, y_train, )#point_weights)\n",
    "y_predicted = model.predict(X_test)\n",
    "# print(\"Weight on disenrolled polcies\", weight)\n",
    "print(\"Test Accuracy\",model.score(X_test, y_test))\n",
    "print(\"tn, fp, fn, tp \",confusion_matrix(y_test, y_predicted).ravel())\n",
    "# X2 = sm.add_constant(X_train)\n",
    "# est = sm.Logit(y_train, X2)\n",
    "# est2 = est.fit()\n",
    "# print(est2.summary())"
   ]
  },
  {
   "cell_type": "code",
   "execution_count": 94,
   "metadata": {},
   "outputs": [
    {
     "ename": "NameError",
     "evalue": "name 'datasets' is not defined",
     "output_type": "error",
     "traceback": [
      "\u001b[0;31m---------------------------------------------------------------------------\u001b[0m",
      "\u001b[0;31mNameError\u001b[0m                                 Traceback (most recent call last)",
      "\u001b[0;32m<ipython-input-94-e0c73980b803>\u001b[0m in \u001b[0;36m<module>\u001b[0;34m()\u001b[0m\n\u001b[1;32m      4\u001b[0m \u001b[0;32mfrom\u001b[0m \u001b[0msklearn\u001b[0m\u001b[0;34m.\u001b[0m\u001b[0mneural_network\u001b[0m \u001b[0;32mimport\u001b[0m \u001b[0mMLPClassifier\u001b[0m\u001b[0;34m\u001b[0m\u001b[0m\n\u001b[1;32m      5\u001b[0m \u001b[0;34m\u001b[0m\u001b[0m\n\u001b[0;32m----> 6\u001b[0;31m \u001b[0;32mfor\u001b[0m \u001b[0mdataset\u001b[0m \u001b[0;32min\u001b[0m \u001b[0mdatasets\u001b[0m\u001b[0;34m:\u001b[0m\u001b[0;34m\u001b[0m\u001b[0m\n\u001b[0m\u001b[1;32m      7\u001b[0m     \u001b[0mX_train\u001b[0m \u001b[0;34m=\u001b[0m \u001b[0mdataset\u001b[0m\u001b[0;34m[\u001b[0m\u001b[0;36m0\u001b[0m\u001b[0;34m]\u001b[0m\u001b[0;34m[\u001b[0m\u001b[0mselect_columns\u001b[0m\u001b[0;34m]\u001b[0m\u001b[0;34m\u001b[0m\u001b[0m\n\u001b[1;32m      8\u001b[0m     \u001b[0mX_test\u001b[0m \u001b[0;34m=\u001b[0m \u001b[0mdataset\u001b[0m\u001b[0;34m[\u001b[0m\u001b[0;36m1\u001b[0m\u001b[0;34m]\u001b[0m\u001b[0;34m[\u001b[0m\u001b[0mselect_columns\u001b[0m\u001b[0;34m]\u001b[0m\u001b[0;34m\u001b[0m\u001b[0m\n",
      "\u001b[0;31mNameError\u001b[0m: name 'datasets' is not defined"
     ]
    }
   ],
   "source": [
    "\"\"\"\n",
    "                                        # neural nets Model #\n",
    "\"\"\"\n",
    "from sklearn.neural_network import MLPClassifier\n",
    "\n",
    "for dataset in datasets:\n",
    "    X_train = dataset[0][select_columns]\n",
    "    X_test = dataset[1][select_columns]\n",
    "    y_train = dataset[0][['InsuranceStatus']]\n",
    "    y_test = dataset[1][['InsuranceStatus']]\n",
    "    X_train, X_test = scaler.fit_transform(X_train), scaler.fit_transform(X_test)\n",
    "    model = MLPClassifier(solver='lbfgs', alpha=1e-4, hidden_layer_sizes=(16, 32, 24, 8), random_state=1, \n",
    "                         activation='relu')\n",
    "    model.fit(X_train, y_train)\n",
    "    y_predicted = model.predict(X_test)\n",
    "#         print(\"\\t Train\",model.score(X_train, y_train))\n",
    "    print(\"Test\",model.score(X_test, y_test))\n",
    "#     print(confusion_matrix(y_test, y_predicted))"
   ]
  },
  {
   "cell_type": "code",
   "execution_count": null,
   "metadata": {
    "collapsed": true
   },
   "outputs": [],
   "source": []
  },
  {
   "cell_type": "code",
   "execution_count": 99,
   "metadata": {},
   "outputs": [
    {
     "name": "stdout",
     "output_type": "stream",
     "text": [
      "Weight on disenrolled polcies 0.75\n",
      "Test Accuracy 0.866178843051\n",
      "tn, fp, fn, tp  [    0     0 11613 75167]\n"
     ]
    }
   ],
   "source": [
    "# len(train_data[train_data['InsuranceStatus']==1])/len(train_data)\n",
    "train_data = sample_train_data(churn_percent=0.5)\n",
    "X_train = train_data[select_columns]\n",
    "y_train = train_data[['InsuranceStatus']]\n",
    "\n",
    "test_data['LOS'] = test_data['LOS'] + 1\n",
    "X_test = test_data[select_columns]\n",
    "y_test = test_data[['InsuranceStatus']]\n",
    "\n",
    "weight = 0.75\n",
    "point_weights = train_data.InsuranceStatus.apply(lambda x: weight if x == 0 else 1)\n",
    "model = LogisticRegression(penalty='l1',)\n",
    "model.fit(X_train, y_train, point_weights)\n",
    "y_predicted = model.predict(X_test)\n",
    "print(\"Weight on disenrolled polcies\", weight)\n",
    "print(\"Test Accuracy\",model.score(X_test, y_test))\n",
    "print(\"tn, fp, fn, tp \",confusion_matrix(y_test, y_predicted).ravel())\n",
    "# X2 = sm.add_constant(X_train)"
   ]
  },
  {
   "cell_type": "code",
   "execution_count": 85,
   "metadata": {},
   "outputs": [
    {
     "data": {
      "text/plain": [
       "Index(['PolicyId', 'EnrollDate', 'CancelDate', 'MonthlyPremium',\n",
       "       'ClaimedAmount', 'PaidAmount', 'CustomerPaidAmount', 'LastSeenDate',\n",
       "       'LOS', 'InsuranceStatus'],\n",
       "      dtype='object')"
      ]
     },
     "execution_count": 85,
     "metadata": {},
     "output_type": "execute_result"
    }
   ],
   "source": []
  },
  {
   "cell_type": "code",
   "execution_count": null,
   "metadata": {
    "collapsed": true
   },
   "outputs": [],
   "source": []
  }
 ],
 "metadata": {
  "kernelspec": {
   "display_name": "Python 3",
   "language": "python",
   "name": "python3"
  },
  "language_info": {
   "codemirror_mode": {
    "name": "ipython",
    "version": 3
   },
   "file_extension": ".py",
   "mimetype": "text/x-python",
   "name": "python",
   "nbconvert_exporter": "python",
   "pygments_lexer": "ipython3",
   "version": "3.6.1+"
  }
 },
 "nbformat": 4,
 "nbformat_minor": 2
}
