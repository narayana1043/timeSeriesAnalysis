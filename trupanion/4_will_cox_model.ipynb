{
 "cells": [
  {
   "cell_type": "code",
   "execution_count": 1,
   "metadata": {},
   "outputs": [
    {
     "name": "stderr",
     "output_type": "stream",
     "text": [
      "/usr/local/lib/python3.6/dist-packages/statsmodels/compat/pandas.py:56: FutureWarning: The pandas.core.datetools module is deprecated and will be removed in a future version. Please use the pandas.tseries module instead.\n",
      "  from pandas.core import datetools\n"
     ]
    }
   ],
   "source": [
    "from IPython.display import display, HTML\n",
    "\n",
    "import pandas as pd\n",
    "import numpy as np\n",
    "import math\n",
    "from sklearn.metrics import confusion_matrix \n",
    "from scipy import stats\n",
    "from sklearn.preprocessing import StandardScaler\n",
    "scaler = StandardScaler()\n",
    "\n",
    "import statsmodels.api as sm\n",
    "import matplotlib.pyplot as plt\n",
    "width, height = 8, 8\n",
    "\n",
    "import warnings\n",
    "warnings.filterwarnings('ignore')"
   ]
  },
  {
   "cell_type": "markdown",
   "metadata": {},
   "source": [
    "### Preprocess policy file\n",
    "1. Add Last seen date (i.e Cancel date or the date at the end of the obersvation period)\n",
    "2. Date time conversions\n",
    "3. Calculate LOS \"Length of Stay\"\n",
    "4. Convert all the enrollment dates to zero and based on this calculate the number of months to the last seen date (i.e which is same as the length of stay) and round it of to the nearest integer"
   ]
  },
  {
   "cell_type": "code",
   "execution_count": 2,
   "metadata": {},
   "outputs": [
    {
     "data": {
      "text/html": [
       "<div>\n",
       "<style>\n",
       "    .dataframe thead tr:only-child th {\n",
       "        text-align: right;\n",
       "    }\n",
       "\n",
       "    .dataframe thead th {\n",
       "        text-align: left;\n",
       "    }\n",
       "\n",
       "    .dataframe tbody tr th {\n",
       "        vertical-align: top;\n",
       "    }\n",
       "</style>\n",
       "<table border=\"1\" class=\"dataframe\">\n",
       "  <thead>\n",
       "    <tr style=\"text-align: right;\">\n",
       "      <th></th>\n",
       "      <th>PolicyId</th>\n",
       "      <th>EnrollDate</th>\n",
       "      <th>CancelDate</th>\n",
       "      <th>MonthlyPremium</th>\n",
       "      <th>LastSeenDate</th>\n",
       "      <th>LOS</th>\n",
       "      <th>InsuranceStatus</th>\n",
       "    </tr>\n",
       "  </thead>\n",
       "  <tbody>\n",
       "    <tr>\n",
       "      <th>0</th>\n",
       "      <td>92597</td>\n",
       "      <td>2010-12-07</td>\n",
       "      <td>NaT</td>\n",
       "      <td>34.54</td>\n",
       "      <td>2016-12-31</td>\n",
       "      <td>72</td>\n",
       "      <td>0</td>\n",
       "    </tr>\n",
       "    <tr>\n",
       "      <th>1</th>\n",
       "      <td>92808</td>\n",
       "      <td>2010-11-09</td>\n",
       "      <td>NaT</td>\n",
       "      <td>18.54</td>\n",
       "      <td>2016-12-31</td>\n",
       "      <td>73</td>\n",
       "      <td>0</td>\n",
       "    </tr>\n",
       "    <tr>\n",
       "      <th>2</th>\n",
       "      <td>93090</td>\n",
       "      <td>2010-11-11</td>\n",
       "      <td>NaT</td>\n",
       "      <td>23.53</td>\n",
       "      <td>2016-12-31</td>\n",
       "      <td>73</td>\n",
       "      <td>0</td>\n",
       "    </tr>\n",
       "    <tr>\n",
       "      <th>3</th>\n",
       "      <td>93122</td>\n",
       "      <td>2010-11-11</td>\n",
       "      <td>NaT</td>\n",
       "      <td>44.02</td>\n",
       "      <td>2016-12-31</td>\n",
       "      <td>73</td>\n",
       "      <td>0</td>\n",
       "    </tr>\n",
       "    <tr>\n",
       "      <th>4</th>\n",
       "      <td>93133</td>\n",
       "      <td>2010-11-11</td>\n",
       "      <td>NaT</td>\n",
       "      <td>32.46</td>\n",
       "      <td>2016-12-31</td>\n",
       "      <td>73</td>\n",
       "      <td>0</td>\n",
       "    </tr>\n",
       "    <tr>\n",
       "      <th>5</th>\n",
       "      <td>93258</td>\n",
       "      <td>2010-11-11</td>\n",
       "      <td>2016-05-24</td>\n",
       "      <td>21.66</td>\n",
       "      <td>2016-05-24</td>\n",
       "      <td>66</td>\n",
       "      <td>1</td>\n",
       "    </tr>\n",
       "  </tbody>\n",
       "</table>\n",
       "</div>"
      ],
      "text/plain": [
       "   PolicyId EnrollDate CancelDate  MonthlyPremium LastSeenDate  LOS  \\\n",
       "0     92597 2010-12-07        NaT           34.54   2016-12-31   72   \n",
       "1     92808 2010-11-09        NaT           18.54   2016-12-31   73   \n",
       "2     93090 2010-11-11        NaT           23.53   2016-12-31   73   \n",
       "3     93122 2010-11-11        NaT           44.02   2016-12-31   73   \n",
       "4     93133 2010-11-11        NaT           32.46   2016-12-31   73   \n",
       "5     93258 2010-11-11 2016-05-24           21.66   2016-05-24   66   \n",
       "\n",
       "   InsuranceStatus  \n",
       "0                0  \n",
       "1                0  \n",
       "2                0  \n",
       "3                0  \n",
       "4                0  \n",
       "5                1  "
      ]
     },
     "metadata": {},
     "output_type": "display_data"
    }
   ],
   "source": [
    "# read data\n",
    "claim_df =  pd.read_csv(\"./data/ClaimLevel.csv\")\n",
    "policy_df = pd.read_csv(\"./data/PolicyLevel.csv\")\n",
    "\n",
    "# Last seen Date: CancelDate if not null else '2016-12-31' (Last date in the data set)\n",
    "policy_df['LastSeenDate'] = policy_df['CancelDate']\n",
    "policy_df['LastSeenDate'].fillna(pd.to_datetime('2016-12-31'), inplace=True)\n",
    "\n",
    "# Date conversions\n",
    "policy_df['EnrollDate'] = pd.to_datetime(policy_df['EnrollDate'])\n",
    "policy_df['CancelDate'] = pd.to_datetime(policy_df['CancelDate'])\n",
    "policy_df['LastSeenDate'] = pd.to_datetime(policy_df['LastSeenDate'])\n",
    "\n",
    "# Length of Stay \"LOS\"\n",
    "policy_df['LOS'] = ((policy_df['LastSeenDate'] - policy_df['EnrollDate'])/np.timedelta64(1, 'M'))\n",
    "policy_df['LOS'] = policy_df['LOS'].astype('int')\n",
    "\n",
    "# Insurance Status: Active means 0 else 1\n",
    "policy_df['InsuranceStatus'] = policy_df['CancelDate'].apply(lambda x: 1 if pd.notnull(x) else 0)\n",
    "\n",
    "# drop null values\n",
    "policy_df.dropna(axis='index', subset=['MonthlyPremium'], inplace=True)\n",
    "\n",
    "# display(claim_df.head())\n",
    "display(policy_df.head(6))"
   ]
  },
  {
   "cell_type": "code",
   "execution_count": 3,
   "metadata": {},
   "outputs": [
    {
     "data": {
      "text/html": [
       "<div>\n",
       "<style>\n",
       "    .dataframe thead tr:only-child th {\n",
       "        text-align: right;\n",
       "    }\n",
       "\n",
       "    .dataframe thead th {\n",
       "        text-align: left;\n",
       "    }\n",
       "\n",
       "    .dataframe tbody tr th {\n",
       "        vertical-align: top;\n",
       "    }\n",
       "</style>\n",
       "<table border=\"1\" class=\"dataframe\">\n",
       "  <thead>\n",
       "    <tr style=\"text-align: right;\">\n",
       "      <th></th>\n",
       "      <th>PolicyId</th>\n",
       "      <th>EnrollDate</th>\n",
       "      <th>CancelDate</th>\n",
       "      <th>MonthlyPremium</th>\n",
       "      <th>LastSeenDate</th>\n",
       "      <th>LOS</th>\n",
       "      <th>InsuranceStatus</th>\n",
       "      <th>ClaimedAmount</th>\n",
       "      <th>PaidAmount</th>\n",
       "      <th>CustomerPaidAmount</th>\n",
       "      <th>...</th>\n",
       "      <th>stdCustomerPaidAmount</th>\n",
       "      <th>VarianceClaimAmount</th>\n",
       "      <th>VariancePaidAmount</th>\n",
       "      <th>VarianceCustomerPaidAmount</th>\n",
       "      <th>maxClaimAmount</th>\n",
       "      <th>minClaimAmount</th>\n",
       "      <th>medianClaimAmount</th>\n",
       "      <th>maxCustomerPaidAmount</th>\n",
       "      <th>minCustomerPaidAmount</th>\n",
       "      <th>medianCustomerPaidAmount</th>\n",
       "    </tr>\n",
       "  </thead>\n",
       "  <tbody>\n",
       "    <tr>\n",
       "      <th>0</th>\n",
       "      <td>92597</td>\n",
       "      <td>2010-12-07</td>\n",
       "      <td>NaT</td>\n",
       "      <td>34.54</td>\n",
       "      <td>2016-12-31</td>\n",
       "      <td>72</td>\n",
       "      <td>0</td>\n",
       "      <td>0.00</td>\n",
       "      <td>0.00</td>\n",
       "      <td>0.00</td>\n",
       "      <td>...</td>\n",
       "      <td>0.000000</td>\n",
       "      <td>0.000000</td>\n",
       "      <td>0.0000</td>\n",
       "      <td>0.000000</td>\n",
       "      <td>0.00</td>\n",
       "      <td>0.00</td>\n",
       "      <td>0.00</td>\n",
       "      <td>0.00</td>\n",
       "      <td>0.00</td>\n",
       "      <td>0.00</td>\n",
       "    </tr>\n",
       "    <tr>\n",
       "      <th>1</th>\n",
       "      <td>92808</td>\n",
       "      <td>2010-11-09</td>\n",
       "      <td>NaT</td>\n",
       "      <td>18.54</td>\n",
       "      <td>2016-12-31</td>\n",
       "      <td>73</td>\n",
       "      <td>0</td>\n",
       "      <td>0.00</td>\n",
       "      <td>0.00</td>\n",
       "      <td>0.00</td>\n",
       "      <td>...</td>\n",
       "      <td>0.000000</td>\n",
       "      <td>0.000000</td>\n",
       "      <td>0.0000</td>\n",
       "      <td>0.000000</td>\n",
       "      <td>0.00</td>\n",
       "      <td>0.00</td>\n",
       "      <td>0.00</td>\n",
       "      <td>0.00</td>\n",
       "      <td>0.00</td>\n",
       "      <td>0.00</td>\n",
       "    </tr>\n",
       "    <tr>\n",
       "      <th>2</th>\n",
       "      <td>93090</td>\n",
       "      <td>2010-11-11</td>\n",
       "      <td>NaT</td>\n",
       "      <td>23.53</td>\n",
       "      <td>2016-12-31</td>\n",
       "      <td>73</td>\n",
       "      <td>0</td>\n",
       "      <td>762.49</td>\n",
       "      <td>329.46</td>\n",
       "      <td>433.03</td>\n",
       "      <td>...</td>\n",
       "      <td>89.285578</td>\n",
       "      <td>49949.935233</td>\n",
       "      <td>18773.2012</td>\n",
       "      <td>7971.914433</td>\n",
       "      <td>510.48</td>\n",
       "      <td>100.00</td>\n",
       "      <td>152.01</td>\n",
       "      <td>510.48</td>\n",
       "      <td>100.00</td>\n",
       "      <td>152.01</td>\n",
       "    </tr>\n",
       "    <tr>\n",
       "      <th>3</th>\n",
       "      <td>93122</td>\n",
       "      <td>2010-11-11</td>\n",
       "      <td>NaT</td>\n",
       "      <td>44.02</td>\n",
       "      <td>2016-12-31</td>\n",
       "      <td>73</td>\n",
       "      <td>0</td>\n",
       "      <td>0.00</td>\n",
       "      <td>0.00</td>\n",
       "      <td>0.00</td>\n",
       "      <td>...</td>\n",
       "      <td>0.000000</td>\n",
       "      <td>0.000000</td>\n",
       "      <td>0.0000</td>\n",
       "      <td>0.000000</td>\n",
       "      <td>0.00</td>\n",
       "      <td>0.00</td>\n",
       "      <td>0.00</td>\n",
       "      <td>0.00</td>\n",
       "      <td>0.00</td>\n",
       "      <td>0.00</td>\n",
       "    </tr>\n",
       "    <tr>\n",
       "      <th>4</th>\n",
       "      <td>93133</td>\n",
       "      <td>2010-11-11</td>\n",
       "      <td>NaT</td>\n",
       "      <td>32.46</td>\n",
       "      <td>2016-12-31</td>\n",
       "      <td>73</td>\n",
       "      <td>0</td>\n",
       "      <td>0.00</td>\n",
       "      <td>0.00</td>\n",
       "      <td>0.00</td>\n",
       "      <td>...</td>\n",
       "      <td>0.000000</td>\n",
       "      <td>0.000000</td>\n",
       "      <td>0.0000</td>\n",
       "      <td>0.000000</td>\n",
       "      <td>0.00</td>\n",
       "      <td>0.00</td>\n",
       "      <td>0.00</td>\n",
       "      <td>0.00</td>\n",
       "      <td>0.00</td>\n",
       "      <td>0.00</td>\n",
       "    </tr>\n",
       "    <tr>\n",
       "      <th>5</th>\n",
       "      <td>93258</td>\n",
       "      <td>2010-11-11</td>\n",
       "      <td>2016-05-24</td>\n",
       "      <td>21.66</td>\n",
       "      <td>2016-05-24</td>\n",
       "      <td>66</td>\n",
       "      <td>1</td>\n",
       "      <td>33.99</td>\n",
       "      <td>30.60</td>\n",
       "      <td>3.39</td>\n",
       "      <td>...</td>\n",
       "      <td>0.000000</td>\n",
       "      <td>0.000000</td>\n",
       "      <td>0.0000</td>\n",
       "      <td>0.000000</td>\n",
       "      <td>11.33</td>\n",
       "      <td>11.33</td>\n",
       "      <td>11.33</td>\n",
       "      <td>11.33</td>\n",
       "      <td>11.33</td>\n",
       "      <td>11.33</td>\n",
       "    </tr>\n",
       "  </tbody>\n",
       "</table>\n",
       "<p>6 rows × 26 columns</p>\n",
       "</div>"
      ],
      "text/plain": [
       "   PolicyId EnrollDate CancelDate  MonthlyPremium LastSeenDate  LOS  \\\n",
       "0     92597 2010-12-07        NaT           34.54   2016-12-31   72   \n",
       "1     92808 2010-11-09        NaT           18.54   2016-12-31   73   \n",
       "2     93090 2010-11-11        NaT           23.53   2016-12-31   73   \n",
       "3     93122 2010-11-11        NaT           44.02   2016-12-31   73   \n",
       "4     93133 2010-11-11        NaT           32.46   2016-12-31   73   \n",
       "5     93258 2010-11-11 2016-05-24           21.66   2016-05-24   66   \n",
       "\n",
       "   InsuranceStatus  ClaimedAmount  PaidAmount  CustomerPaidAmount  \\\n",
       "0                0           0.00        0.00                0.00   \n",
       "1                0           0.00        0.00                0.00   \n",
       "2                0         762.49      329.46              433.03   \n",
       "3                0           0.00        0.00                0.00   \n",
       "4                0           0.00        0.00                0.00   \n",
       "5                1          33.99       30.60                3.39   \n",
       "\n",
       "             ...             stdCustomerPaidAmount  VarianceClaimAmount  \\\n",
       "0            ...                          0.000000             0.000000   \n",
       "1            ...                          0.000000             0.000000   \n",
       "2            ...                         89.285578         49949.935233   \n",
       "3            ...                          0.000000             0.000000   \n",
       "4            ...                          0.000000             0.000000   \n",
       "5            ...                          0.000000             0.000000   \n",
       "\n",
       "   VariancePaidAmount  VarianceCustomerPaidAmount  maxClaimAmount  \\\n",
       "0              0.0000                    0.000000            0.00   \n",
       "1              0.0000                    0.000000            0.00   \n",
       "2          18773.2012                 7971.914433          510.48   \n",
       "3              0.0000                    0.000000            0.00   \n",
       "4              0.0000                    0.000000            0.00   \n",
       "5              0.0000                    0.000000           11.33   \n",
       "\n",
       "   minClaimAmount  medianClaimAmount  maxCustomerPaidAmount  \\\n",
       "0            0.00               0.00                   0.00   \n",
       "1            0.00               0.00                   0.00   \n",
       "2          100.00             152.01                 510.48   \n",
       "3            0.00               0.00                   0.00   \n",
       "4            0.00               0.00                   0.00   \n",
       "5           11.33              11.33                  11.33   \n",
       "\n",
       "   minCustomerPaidAmount  medianCustomerPaidAmount  \n",
       "0                   0.00                      0.00  \n",
       "1                   0.00                      0.00  \n",
       "2                 100.00                    152.01  \n",
       "3                   0.00                      0.00  \n",
       "4                   0.00                      0.00  \n",
       "5                  11.33                     11.33  \n",
       "\n",
       "[6 rows x 26 columns]"
      ]
     },
     "metadata": {},
     "output_type": "display_data"
    }
   ],
   "source": [
    "\"\"\"\n",
    "                        # Data Preparation & Feature generation#\n",
    "Generate a single record per policy that retains max information possible\n",
    "\"\"\"\n",
    "claim_df['CustomerPaidAmount'] = claim_df['ClaimedAmount'] - claim_df['PaidAmount']\n",
    "claim_df_grouped = claim_df.groupby(['PolicyId'])\n",
    "claim_per_policy_df = claim_df_grouped[['ClaimedAmount', 'PaidAmount', 'CustomerPaidAmount']].sum()\n",
    "claim_per_policy_df['ClaimsCount'] = claim_df_grouped.size()\n",
    "claim_per_policy_df['AvgClaimAmount'] = claim_df_grouped[['ClaimedAmount']].mean()\n",
    "claim_per_policy_df['AvgPaidAmount'] = claim_df_grouped[['PaidAmount']].mean()\n",
    "claim_per_policy_df['AvgCustomerPaidAmount'] = claim_df_grouped[['CustomerPaidAmount']].mean()\n",
    "claim_per_policy_df['stdClaimAmount'] = claim_df_grouped[['ClaimedAmount']].std()\n",
    "claim_per_policy_df['stdPaidAmount'] = claim_df_grouped[['PaidAmount']].std()\n",
    "claim_per_policy_df['stdCustomerPaidAmount'] = claim_df_grouped[['CustomerPaidAmount']].std()\n",
    "claim_per_policy_df['VarianceClaimAmount'] = claim_df_grouped[['ClaimedAmount']].var()\n",
    "claim_per_policy_df['VariancePaidAmount'] = claim_df_grouped[['PaidAmount']].var()\n",
    "claim_per_policy_df['VarianceCustomerPaidAmount'] = claim_df_grouped[['CustomerPaidAmount']].var()\n",
    "claim_per_policy_df['maxClaimAmount'] = claim_df_grouped[['ClaimedAmount']].max()\n",
    "claim_per_policy_df['minClaimAmount'] = claim_df_grouped[['ClaimedAmount']].min()\n",
    "claim_per_policy_df['medianClaimAmount'] = claim_df_grouped[['ClaimedAmount']].median()\n",
    "claim_per_policy_df['maxCustomerPaidAmount'] = claim_df_grouped[['ClaimedAmount']].max()\n",
    "claim_per_policy_df['minCustomerPaidAmount'] = claim_df_grouped[['ClaimedAmount']].min()\n",
    "claim_per_policy_df['medianCustomerPaidAmount'] = claim_df_grouped[['ClaimedAmount']].median()\n",
    "\n",
    "policy_df = policy_df.join(claim_per_policy_df, on=['PolicyId'])\n",
    "\n",
    "# If no claims were made then all amounts are equal to 0 instead of NULL\n",
    "for column in list(set(policy_df.columns) - set(['CancelDate'])):\n",
    "    policy_df[column].fillna(0, inplace=True)\n",
    "\n",
    "display(policy_df.head(6))"
   ]
  },
  {
   "cell_type": "markdown",
   "metadata": {},
   "source": [
    "## SURVIVAL AND HAZARD\n",
    "Survival data are generally described and modelled in terms of two related probabilities, namely survival and hazard. The survival probability (which is also called the survivor function) S(t) is the probability that an individual survives from the time origin (e.g. diagnosis of cancer) to a specified future time t. It is fundamental to a survival analysis because survival probabilities for different values of t provide crucial summary information from time to event data. These values describe directly the survival experience of a study cohort.\n",
    "\n",
    "The hazard is usually denoted by h(t) or λ(t) and is the probability that an individual who is under observation at a time t has an event at that time. Put another way, it represents the instantaneous event rate for an individual who has already survived to time t. Note that, in contrast to the survivor function, which focuses on not having an event, the hazard function focuses on the event occurring. It is of interest because it provides insight into the conditional failure rates and provides a vehicle for specifying a survival model. In summary, the hazard relates to the incident (current) event rate, while survival reflects the cumulative non-occurrence.\n"
   ]
  },
  {
   "cell_type": "markdown",
   "metadata": {},
   "source": [
    "### KAPLAN–MEIER SURVIVAL ESTIMATE\n",
    "$S(t_{j}) = S(t_{j-1})(1 - \\frac{d_{j}}{n_{j}})$\n",
    "\n",
    "Suppose that k policies have been lost in the period of follow up (year 2016) at distinct times (each month) $t_{1}<t_{2}<t_{3}<t_{4}<....<t_{k} $ where each $t_{j}$ represents  a month\n",
    "As events are assumed to occur independently of one another the probabilites of a policies surviving from one interval to the next may be multiplied together to give the cummulative survival probability. \n",
    "The probability of a policy being alive at time $t_{j}, S(t_{j})$ is calculated from $S(t_{j-1})$ fromt he probability of being alive at time $t_{j-1}, n_{j}$ the number of patients alive just before $t_{j}$, and $d_{j}$ the number of events at $t_{j}$\n",
    "\n",
    "$t_{0}=0 \\\\ S(0)=1$\n",
    "\n",
    "The value $S(t)$ is constant between times of events and therfore the estimated probability is a step function that changes value only at the time of each event. This estimator allows each patient to contribute information to the calculations for as long as they are known to be event-free. Were every individual to experience the event (i.e. no censoring), this estimator would simply reduce to the ratio of the number of individuals events free at time t divided by the number of people who entered the study."
   ]
  },
  {
   "cell_type": "code",
   "execution_count": 4,
   "metadata": {},
   "outputs": [
    {
     "name": "stdout",
     "output_type": "stream",
     "text": [
      "[1, 0.99, 0.97, 0.94, 0.9, 0.85, 0.8, 0.74, 0.67, 0.6, 0.53, 0.46, 0.39]\n"
     ]
    }
   ],
   "source": [
    "time = [i for i in range(13)]\n",
    "count_of_policies_expired_at_time_t = [0,]\n",
    "count_of_surviving_polcies_before_time_t = []\n",
    "prob_of_policy_being_alive_at_time_t = [1,]\n",
    "dates = []\n",
    "\n",
    "base_date = policy_df['CancelDate'].min() - np.timedelta64(1, 'D')\n",
    "\n",
    "for t in time:\n",
    "    date = base_date + np.timedelta64(t, 'M')\n",
    "    dates.append(date)\n",
    "    count_of_surviving_polcies_before_time_t.append(len(policy_df[policy_df['LastSeenDate'] > date]))\n",
    "    if t != 0:\n",
    "        count_of_policies_expired_at_time_t.append(\n",
    "            len(policy_df[policy_df['LastSeenDate'] < date] - count_of_policies_expired_at_time_t[t-1]))\n",
    "        prob_of_policy_being_alive_at_time_t.append(round(prob_of_policy_being_alive_at_time_t[t-1] * (\n",
    "            1 - (count_of_policies_expired_at_time_t[t]/count_of_surviving_polcies_before_time_t[t-1])), 2))\n",
    "# print(dates)\n",
    "# print(count_of_policy_expired_at_time_t)\n",
    "# print(count_of_surviving_polcies_before_time_t)\n",
    "print(prob_of_policy_being_alive_at_time_t)"
   ]
  },
  {
   "cell_type": "markdown",
   "metadata": {},
   "source": [
    "## cummulative count of policies expired before each month in year 2016"
   ]
  },
  {
   "cell_type": "code",
   "execution_count": 5,
   "metadata": {
    "scrolled": true
   },
   "outputs": [
    {
     "data": {
      "image/png": "[encoded data removed]",
      "text/plain": [
       "<matplotlib.figure.Figure at 0x7fc551cff860>"
      ]
     },
     "metadata": {},
     "output_type": "display_data"
    }
   ],
   "source": [
    "plt.figure(figsize=(width, height))\n",
    "plt.plot(dates, count_of_policies_expired_at_time_t, linestyle='--', marker='o', color='b',\n",
    "         label=\"count of policies expired at time t\")\n",
    "plt.title(\"count of policies expired at time t\")\n",
    "plt.legend(bbox_to_anchor=(1.05, 1), loc=2, borderaxespad=0.)\n",
    "locs, labels = plt.xticks()\n",
    "plt.setp(labels, rotation=90)\n",
    "plt.show()"
   ]
  },
  {
   "cell_type": "markdown",
   "metadata": {},
   "source": [
    "## KAPLAN–MEIER SURVIVAL ESTIMATE"
   ]
  },
  {
   "cell_type": "code",
   "execution_count": 6,
   "metadata": {},
   "outputs": [
    {
     "data": {
      "image/png": "[encoded data removed]",
      "text/plain": [
       "<matplotlib.figure.Figure at 0x7fc551f90588>"
      ]
     },
     "metadata": {},
     "output_type": "display_data"
    }
   ],
   "source": [
    "plt.figure(figsize=(width, height))\n",
    "plt.plot(range(13), prob_of_policy_being_alive_at_time_t, linestyle='--', marker='o', color='b', \n",
    "         label=\"probability of policy being alive at time t\")\n",
    "plt.title(\"probability of policy being alive at time t\")\n",
    "plt.legend(bbox_to_anchor=(1.05, 1), loc=2, borderaxespad=0.)\n",
    "locs, labels = plt.xticks()\n",
    "plt.setp(labels, rotation=90)\n",
    "plt.show()"
   ]
  },
  {
   "cell_type": "markdown",
   "metadata": {
    "collapsed": true
   },
   "source": [
    "## HAZARD AND CUMULATIVE HAZARD\n",
    "\n",
    "There is a clearly defined relationship between S(t) and h(t), which is given by the calculus formula:\n",
    "\n",
    "$h(t) = - \\frac{d}{dt}[log(S(t))]$\n",
    "\n",
    "The point here is simply that if either S(t) or h(t) is known, the other is automatically determined. Consequently, either can be the basis of statistical analysis.\n",
    "Unfortunately, unlike S(t) there is no simple way to estimate h(t). Instead, a quantity called the cumulative hazard H(t) is commonly used. This is defined as the integral of the hazard, or the area under the hazard function between times 0 and t, and differs from the log-survivor curve only by sign, that is $H(t)=−log[S(t)]$. The interpretation of H(t) is difficult, but perhaps the easiest way to think of H(t) is as the cumulative force of mortality, or the number of events that would be expected for each individual by time t if the event were a repeatable process. H(t) is used an intermediary measure for estimating h(t) and as a diagnostic tool in assessing model validity."
   ]
  },
  {
   "cell_type": "code",
   "execution_count": 7,
   "metadata": {},
   "outputs": [
    {
     "name": "stdout",
     "output_type": "stream",
     "text": [
      "[-0.0, 0.01, 0.03, 0.06, 0.11, 0.16, 0.22, 0.3, 0.4, 0.51, 0.63, 0.78, 0.94]\n"
     ]
    }
   ],
   "source": [
    "hazard_prob_of_policy_at_time_t = [round(-math.log(x), 2) for x in prob_of_policy_being_alive_at_time_t]\n",
    "print(hazard_prob_of_policy_at_time_t)"
   ]
  },
  {
   "cell_type": "code",
   "execution_count": 8,
   "metadata": {},
   "outputs": [
    {
     "data": {
      "image/png": "[encoded data removed]",
      "text/plain": [
       "<matplotlib.figure.Figure at 0x7fc551dc8748>"
      ]
     },
     "metadata": {},
     "output_type": "display_data"
    }
   ],
   "source": [
    "plt.figure(figsize=(width, height))\n",
    "plt.plot(range(13), hazard_prob_of_policy_at_time_t, linestyle='--', marker='o', color='b', \n",
    "         label=\"hazard prob of policy at time t\")\n",
    "plt.title(\"hazard prob of policy at time t\")\n",
    "plt.legend(bbox_to_anchor=(1.05, 1), loc=2, borderaxespad=0.)\n",
    "locs, labels = plt.xticks()\n",
    "plt.setp(labels, rotation=90)\n",
    "plt.show()"
   ]
  },
  {
   "cell_type": "markdown",
   "metadata": {},
   "source": [
    "## Multivariate data analysis – Choice of Covariates \"Cox Proportional Hazards Model\"\n",
    "(Covariates that are fixed and don't change with time)\n",
    "\n",
    "https://en.wikipedia.org/wiki/Proportional_hazards_model"
   ]
  },
  {
   "cell_type": "markdown",
   "metadata": {},
   "source": [
    "### feature engineering\n",
    "\n",
    "Since we have some information about the claims the policy holders have made during the year 2016 we can also incude that information in the semi-parameteric cox model which is show below.\n",
    "\n",
    "Note: I have included only relevant features after based on P-values from several different combinations. There are much better ways to to do this parameter tuning but I am going forward this naive approach for the purpose of this assignment."
   ]
  },
  {
   "cell_type": "code",
   "execution_count": 9,
   "metadata": {
    "scrolled": true
   },
   "outputs": [
    {
     "name": "stdout",
     "output_type": "stream",
     "text": [
      "n=99995, number of events=13215\n",
      "\n",
      "                  coef  exp(coef)  se(coef)        z      p  lower 0.95  upper 0.95     \n",
      "ClaimedAmount   0.0003     1.0003    0.0000  15.1958 0.0000      0.0002      0.0003  ***\n",
      "AvgPaidAmount  -0.0004     0.9996    0.0001  -4.6846 0.0000     -0.0006     -0.0002  ***\n",
      "stdPaidAmount  -0.0008     0.9992    0.0001  -7.0660 0.0000     -0.0011     -0.0006  ***\n",
      "ClaimsCount    -0.0611     0.9407    0.0037 -16.5024 0.0000     -0.0684     -0.0539  ***\n",
      "MonthlyPremium -0.0090     0.9910    0.0007 -12.5776 0.0000     -0.0105     -0.0076  ***\n",
      "---\n",
      "Signif. codes:  0 '***' 0.001 '**' 0.01 '*' 0.05 '.' 0.1 ' ' 1 \n",
      "\n",
      "Concordance = 0.574\n"
     ]
    }
   ],
   "source": [
    "from lifelines import CoxPHFitter\n",
    "\n",
    "policy_df = policy_df.set_index(keys=['PolicyId'])\n",
    "\n",
    "X = policy_df[list(set(policy_df.columns) - set(['EnrollDate', 'CancelDate', 'LastSeenDate',\n",
    "#                                                  'ClaimedAmount', \n",
    "                                                 'PaidAmount',\n",
    "                                                 'CustomerPaidAmount', \n",
    "#                                                  'ClaimsCount', \n",
    "                                                 'AvgClaimAmount',\n",
    "#                                                  'AvgPaidAmount',\n",
    "                                                 'AvgCustomerPaidAmount',\n",
    "                                                 'stdClaimAmount',\n",
    "#                                                  'stdPaidAmount',\n",
    "                                                 'stdCustomerPaidAmount',\n",
    "                                                 'VarianceClaimAmount', \n",
    "                                                 'VariancePaidAmount',\n",
    "                                                 'VarianceCustomerPaidAmount', \n",
    "                                                 'maxClaimAmount',\n",
    "                                                 'minClaimAmount',\n",
    "                                                 'medianClaimAmount', \n",
    "                                                 'maxCustomerPaidAmount',\n",
    "                                                 'minCustomerPaidAmount', \n",
    "                                                 'medianCustomerPaidAmount'\n",
    "                                                ]))]\n",
    "cph = CoxPHFitter()\n",
    "cph.fit(X, duration_col='LOS', event_col='InsuranceStatus')\n",
    "\n",
    "cph.print_summary()"
   ]
  },
  {
   "cell_type": "markdown",
   "metadata": {},
   "source": [
    "### Translating the output to Jan 2017 for each policy\n",
    "\n",
    "But since we have changed the time from calender time to survival time format to run the survival analysis we know have convert the time back to calendar time for each policy.\n",
    "\n",
    "Since we have the \"LOS\" parameter which gives us the month the policy is last seen we can now go head and add 1 to the \"LOS\" variable and extract the hazard probability at event \"LOS + 1\" for each policy.\n",
    "\n",
    "What we are predicting below are probability that a policies survives in Jan 2017."
   ]
  },
  {
   "cell_type": "code",
   "execution_count": 43,
   "metadata": {
    "collapsed": true
   },
   "outputs": [],
   "source": [
    "X_test = X.drop(['InsuranceStatus'], axis=1)\n",
    "X_test['LOS'] = X_test['LOS'] + 1\n",
    "output = cph.predict_survival_function(X=X_test)"
   ]
  },
  {
   "cell_type": "code",
   "execution_count": 65,
   "metadata": {
    "collapsed": true
   },
   "outputs": [],
   "source": [
    "indicies = X['LOS'] + 1\n",
    "indicies = {x:y for x,y in indicies.items()}\n",
    "survival_porb_jan2017 = {}\n",
    "# survival_porb_jan2017 = {x:output.loc[y,x] for x,y in indicies.items()}\n",
    "for x,y in indicies.items():\n",
    "    try:\n",
    "        survival_porb_jan2017[x] = (output.loc[y,x])\n",
    "    except KeyError:\n",
    "        survival_porb_jan2017[x] = 0\n",
    "        pass\n",
    "\n",
    "survival_porb_jan2017_df = pd.DataFrame.from_dict(survival_porb_jan2017, orient='index')\n",
    "survival_porb_jan2017_df = survival_porb_jan2017_df.join(policy_df[['InsuranceStatus']], how='left')\n",
    "# survival_porb_jan2017_df[survival_porb_jan2017_df[0] < 0.6]\n",
    "# survival_porb_jan2017_df[survival_porb_jan2017_df['InsuranceStatus'] == 1]"
   ]
  },
  {
   "cell_type": "code",
   "execution_count": 66,
   "metadata": {},
   "outputs": [],
   "source": [
    "survival_porb_jan2017_df.reset_index(inplace=True)\n",
    "survival_porb_jan2017_df.drop(['InsuranceStatus'], inplace=True, axis=1)\n",
    "survival_porb_jan2017_df.columns = ['PolicyId', 'Prob_not_cancel']\n",
    "survival_porb_jan2017_df['Prob_cancel'] = 1 - survival_porb_jan2017_df['Prob_not_cancel']\n",
    "survival_porb_jan2017_df.to_csv('./data/survival_prob_jan2017.csv', index=False)"
   ]
  },
  {
   "cell_type": "code",
   "execution_count": null,
   "metadata": {
    "collapsed": true
   },
   "outputs": [],
   "source": []
  },
  {
   "cell_type": "code",
   "execution_count": null,
   "metadata": {
    "collapsed": true
   },
   "outputs": [],
   "source": []
  }
 ],
 "metadata": {
  "kernelspec": {
   "display_name": "Python 3",
   "language": "python",
   "name": "python3"
  },
  "language_info": {
   "codemirror_mode": {
    "name": "ipython",
    "version": 3
   },
   "file_extension": ".py",
   "mimetype": "text/x-python",
   "name": "python",
   "nbconvert_exporter": "python",
   "pygments_lexer": "ipython3",
   "version": "3.6.1+"
  }
 },
 "nbformat": 4,
 "nbformat_minor": 2
}
